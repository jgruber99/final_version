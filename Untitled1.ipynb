{
  "nbformat": 4,
  "nbformat_minor": 0,
  "metadata": {
    "colab": {
      "provenance": [],
      "authorship_tag": "ABX9TyMUUUN6/nZT6sJgND8KwlqQ",
      "include_colab_link": true
    },
    "kernelspec": {
      "name": "python3",
      "display_name": "Python 3"
    },
    "language_info": {
      "name": "python"
    }
  },
  "cells": [
    {
      "cell_type": "markdown",
      "metadata": {
        "id": "view-in-github",
        "colab_type": "text"
      },
      "source": [
        "<a href=\"https://colab.research.google.com/github/jgruber99/CompFin/blob/main/Untitled1.ipynb\" target=\"_parent\"><img src=\"https://colab.research.google.com/assets/colab-badge.svg\" alt=\"Open In Colab\"/></a>"
      ]
    },
    {
      "cell_type": "code",
      "execution_count": null,
      "metadata": {
        "id": "Oms0YJnmSFuQ",
        "colab": {
          "base_uri": "https://localhost:8080/"
        },
        "outputId": "d9a5787c-84aa-47f8-ab78-c599de496549"
      },
      "outputs": [
        {
          "output_type": "stream",
          "name": "stdout",
          "text": [
            "Cloning into 'abides-jpmc-public'...\n",
            "remote: Enumerating objects: 313, done.\u001b[K\n",
            "remote: Counting objects: 100% (313/313), done.\u001b[K\n",
            "remote: Compressing objects: 100% (238/238), done.\u001b[K\n",
            "remote: Total 313 (delta 76), reused 274 (delta 55), pack-reused 0\u001b[K\n",
            "Receiving objects: 100% (313/313), 1.98 MiB | 17.18 MiB/s, done.\n",
            "Resolving deltas: 100% (76/76), done.\n"
          ]
        }
      ],
      "source": [
        "!git clone https://github.com/jpmorganchase/abides-jpmc-public.git\n"
      ]
    },
    {
      "cell_type": "code",
      "source": [
        "!cp -r abides-jpmc-public/* ."
      ],
      "metadata": {
        "id": "i8_artGFSHup"
      },
      "execution_count": null,
      "outputs": []
    },
    {
      "cell_type": "code",
      "source": [
        "!bash install.sh"
      ],
      "metadata": {
        "colab": {
          "base_uri": "https://localhost:8080/"
        },
        "id": "mr-TPyz54U3J",
        "outputId": "3c0aa827-dc81-4613-82ca-6e1dd3c88e42"
      },
      "execution_count": null,
      "outputs": [
        {
          "output_type": "stream",
          "name": "stdout",
          "text": [
            "abides-core\t    DEVELOPER-GUIDE.md\tnotebooks\t      sample_data\n",
            "abides-gym\t    install.sh\t\tprofiling\t      setup-dev.sh\n",
            "abides-jpmc-public  LICENSE\t\tREADME.md\t      version_testing\n",
            "abides-markets\t    LICENSE.txt\t\trequirements-dev.txt\n",
            "CHANGELOG.md\t    mypy.ini\t\trequirements.txt\n"
          ]
        }
      ]
    },
    {
      "cell_type": "code",
      "source": [
        "!wget https://lobsterdata.com/info/sample/LOBSTER_SampleFile_MSFT_2012-06-21_10.zip\n",
        "!unzip LOBSTER_SampleFile_MSFT_2012-06-21_10.zip"
      ],
      "metadata": {
        "id": "6_d-mE2yBWlk",
        "outputId": "be295842-1451-477a-d844-de2f226a7e14",
        "colab": {
          "base_uri": "https://localhost:8080/"
        }
      },
      "execution_count": 13,
      "outputs": [
        {
          "output_type": "stream",
          "name": "stdout",
          "text": [
            "--2022-12-15 18:22:20--  https://lobsterdata.com/info/sample/LOBSTER_SampleFile_MSFT_2012-06-21_10.zip\n",
            "Resolving lobsterdata.com (lobsterdata.com)... 131.130.97.103\n",
            "Connecting to lobsterdata.com (lobsterdata.com)|131.130.97.103|:443... connected.\n",
            "HTTP request sent, awaiting response... 200 OK\n",
            "Length: 8956947 (8.5M) [application/zip]\n",
            "Saving to: ‘LOBSTER_SampleFile_MSFT_2012-06-21_10.zip’\n",
            "\n",
            "LOBSTER_SampleFile_ 100%[===================>]   8.54M  7.41MB/s    in 1.2s    \n",
            "\n",
            "2022-12-15 18:22:22 (7.41 MB/s) - ‘LOBSTER_SampleFile_MSFT_2012-06-21_10.zip’ saved [8956947/8956947]\n",
            "\n",
            "Archive:  LOBSTER_SampleFile_MSFT_2012-06-21_10.zip\n",
            "  inflating: MSFT_2012-06-21_34200000_57600000_orderbook_10.csv  \n",
            "  inflating: MSFT_2012-06-21_34200000_57600000_message_10.csv  \n",
            "  inflating: LOBSTER_SampleFiles_ReadMe.txt  \n"
          ]
        }
      ]
    },
    {
      "cell_type": "code",
      "source": [
        "import gym\n",
        "import abides_gym"
      ],
      "metadata": {
        "id": "sAb6tK-28hIF"
      },
      "execution_count": null,
      "outputs": []
    },
    {
      "cell_type": "code",
      "source": [
        "#import abides gym \n",
        "env = gym.make(\n",
        "        \"markets-execution-v0\",\n",
        "        background_config=\"rmsc04\"\n",
        "    )\n",
        "#set the general seed\n",
        "env.seed(0)"
      ],
      "metadata": {
        "id": "_ESGaJo34ofY",
        "outputId": "06244333-002b-4096-9541-d535b22caf7a",
        "colab": {
          "base_uri": "https://localhost:8080/"
        }
      },
      "execution_count": null,
      "outputs": [
        {
          "output_type": "execute_result",
          "data": {
            "text/plain": [
              "[0]"
            ]
          },
          "metadata": {},
          "execution_count": 4
        }
      ]
    },
    {
      "cell_type": "code",
      "source": [
        "state = env.reset()\n",
        "print(state)"
      ],
      "metadata": {
        "id": "e5wscJ8Y4p0H",
        "outputId": "72615761-f5ae-4a43-b715-176e4b08a451",
        "colab": {
          "base_uri": "https://localhost:8080/"
        }
      },
      "execution_count": null,
      "outputs": [
        {
          "output_type": "stream",
          "name": "stdout",
          "text": [
            "[[ 0.0000000e+00]\n",
            " [ 0.0000000e+00]\n",
            " [ 0.0000000e+00]\n",
            " [ 2.2246940e-01]\n",
            " [ 2.2805017e-01]\n",
            " [ 3.4495429e-04]\n",
            " [ 2.7000000e+01]\n",
            " [-1.3500000e+01]\n",
            " [ 0.0000000e+00]\n",
            " [ 0.0000000e+00]\n",
            " [ 0.0000000e+00]]\n"
          ]
        }
      ]
    },
    {
      "cell_type": "code",
      "source": [
        "import ray\n",
        "from ray import tune\n",
        "\n",
        "# Import to register environments\n",
        "import abides_gym\n",
        "\n",
        "\n",
        "from ray.tune.registry import register_env\n",
        "# import env \n",
        "\n",
        "from abides_gym.envs.markets_execution_environment_v0 import (\n",
        "    SubGymMarketsExecutionEnv_v0,\n",
        ")"
      ],
      "metadata": {
        "id": "bE0kBZsK5Un4"
      },
      "execution_count": null,
      "outputs": []
    },
    {
      "cell_type": "code",
      "source": [],
      "metadata": {
        "id": "XbFjgv5X71aW"
      },
      "execution_count": null,
      "outputs": []
    }
  ]
}